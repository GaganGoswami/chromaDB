{
 "cells": [
  {
   "cell_type": "code",
   "execution_count": 37,
   "id": "5fa0556b-ad1f-4b9a-b7f0-3c6312ee7506",
   "metadata": {},
   "outputs": [],
   "source": [
    "import chromadb\n",
    "from pprint import pprint"
   ]
  },
  {
   "cell_type": "code",
   "execution_count": 2,
   "id": "f660ab1a-acfb-4c06-bcf3-82469d0ce8a9",
   "metadata": {},
   "outputs": [],
   "source": [
    "chroma_client = chromadb.Client();"
   ]
  },
  {
   "cell_type": "code",
   "execution_count": 3,
   "id": "8536e995-1391-4977-a8c3-7205b81f011e",
   "metadata": {},
   "outputs": [],
   "source": [
    "collection = chroma_client.create_collection(name=\"fruit_collaction\")"
   ]
  },
  {
   "cell_type": "code",
   "execution_count": 4,
   "id": "a8cd5a79-cfdf-4130-8ddf-8d27f13ac973",
   "metadata": {},
   "outputs": [],
   "source": [
    "collection.add(\n",
    "    documents=[\n",
    "        \"This is the document about Oranges\",\n",
    "        \"This is the document about Bananas\",\n",
    "        \"This is the document about pineapple\"\n",
    "    ],\n",
    "    ids=[\"f1\",\"f2\",\"f3\"]\n",
    ")"
   ]
  },
  {
   "cell_type": "code",
   "execution_count": 38,
   "id": "2b2d3ceb-e0cf-4e43-b9a9-4be56ec9ceb4",
   "metadata": {},
   "outputs": [
    {
     "name": "stdout",
     "output_type": "stream",
     "text": [
      "{'data': None,\n",
      " 'distances': [[1.3692655563354492, 1.3950780630111694]],\n",
      " 'documents': [['This is a document about pineapple',\n",
      "                'This is the document about pineapple']],\n",
      " 'embeddings': None,\n",
      " 'ids': [['id1', 'f3']],\n",
      " 'included': [<IncludeEnum.distances: 'distances'>,\n",
      "              <IncludeEnum.documents: 'documents'>,\n",
      "              <IncludeEnum.metadatas: 'metadatas'>],\n",
      " 'metadatas': [[None, None]],\n",
      " 'uris': None}\n"
     ]
    }
   ],
   "source": [
    "results = collection.query(\n",
    "    query_texts=[\"This is a query document about italy\"], # Chroma will embed this for you\n",
    "    n_results=2 # how many results to return\n",
    ")\n",
    "pprint(results)\n",
    "\n"
   ]
  },
  {
   "cell_type": "code",
   "execution_count": 30,
   "id": "cdf198af-8093-448a-b1be-95f7fe73ba92",
   "metadata": {},
   "outputs": [
    {
     "data": {
      "text/plain": [
       "{'documents': [['This is a document about pineapple',\n",
       "   'This is a document about oranges']],\n",
       " 'ids': [['f3', 'f1']],\n",
       " 'distances': [[1.0404009819030762, 1.243080496788025]],\n",
       " 'uris': None,\n",
       " 'data': None,\n",
       " 'metadatas': [[None, None]],\n",
       " 'embeddings': None}"
      ]
     },
     "execution_count": 30,
     "metadata": {},
     "output_type": "execute_result"
    }
   ],
   "source": [
    "{\n",
    "  'documents': [[\n",
    "      'This is a document about pineapple',\n",
    "      'This is a document about oranges'\n",
    "  ]],\n",
    "  'ids': [['f3', 'f1']],\n",
    "  'distances': [[1.0404009819030762, 1.243080496788025]],\n",
    "  'uris': None,\n",
    "  'data': None,\n",
    "  'metadatas': [[None, None]],\n",
    "  'embeddings': None,\n",
    "}\n"
   ]
  },
  {
   "cell_type": "code",
   "execution_count": 39,
   "id": "0075b2b7-5825-490f-b0ca-4589472c4dcb",
   "metadata": {},
   "outputs": [
    {
     "name": "stdout",
     "output_type": "stream",
     "text": [
      "{'data': None,\n",
      " 'distances': [[1.0404009819030762, 1.0696474313735962]],\n",
      " 'documents': [['This is a document about pineapple',\n",
      "                'This is the document about pineapple']],\n",
      " 'embeddings': None,\n",
      " 'ids': [['id1', 'f3']],\n",
      " 'included': [<IncludeEnum.distances: 'distances'>,\n",
      "              <IncludeEnum.documents: 'documents'>,\n",
      "              <IncludeEnum.metadatas: 'metadatas'>],\n",
      " 'metadatas': [[None, None]],\n",
      " 'uris': None}\n"
     ]
    }
   ],
   "source": [
    "results = collection.query(\n",
    "    query_texts=[\"This is a query document about hawaii\"], # Chroma will embed this for you\n",
    "    n_results=2 # how many results to return\n",
    ")\n",
    "pprint(results)"
   ]
  },
  {
   "cell_type": "code",
   "execution_count": 40,
   "id": "019a0b15-57c6-4389-835c-56f593d3bfc4",
   "metadata": {},
   "outputs": [
    {
     "name": "stdout",
     "output_type": "stream",
     "text": [
      "{'data': None,\n",
      " 'distances': [[1.1462143659591675, 1.147030234336853]],\n",
      " 'documents': [['This is a document about oranges',\n",
      "                'This is the document about Oranges']],\n",
      " 'embeddings': None,\n",
      " 'ids': [['id2', 'f1']],\n",
      " 'included': [<IncludeEnum.distances: 'distances'>,\n",
      "              <IncludeEnum.documents: 'documents'>,\n",
      "              <IncludeEnum.metadatas: 'metadatas'>],\n",
      " 'metadatas': [[None, None]],\n",
      " 'uris': None}\n"
     ]
    }
   ],
   "source": [
    "import chromadb\n",
    "chroma_client = chromadb.Client()\n",
    "\n",
    "# switch `create_collection` to `get_or_create_collection` to avoid creating a new collection every time\n",
    "collection = chroma_client.get_or_create_collection(name=\"my_collection\")\n",
    "\n",
    "# switch `add` to `upsert` to avoid adding the same documents every time\n",
    "collection.upsert(\n",
    "    documents=[\n",
    "        \"This is a document about pineapple\",\n",
    "        \"This is a document about oranges\"\n",
    "    ],\n",
    "    ids=[\"id1\", \"id2\"]\n",
    ")\n",
    "\n",
    "results = collection.query(\n",
    "    query_texts=[\"This is a query document about florida\"], # Chroma will embed this for you\n",
    "    n_results=2 # how many results to return\n",
    ")\n",
    "\n",
    "pprint(results)\n"
   ]
  },
  {
   "cell_type": "code",
   "execution_count": null,
   "id": "08b68605-b074-4445-aed7-2ea6638065ae",
   "metadata": {},
   "outputs": [],
   "source": []
  }
 ],
 "metadata": {
  "kernelspec": {
   "display_name": "Python 3 (ipykernel)",
   "language": "python",
   "name": "python3"
  },
  "language_info": {
   "codemirror_mode": {
    "name": "ipython",
    "version": 3
   },
   "file_extension": ".py",
   "mimetype": "text/x-python",
   "name": "python",
   "nbconvert_exporter": "python",
   "pygments_lexer": "ipython3",
   "version": "3.11.11"
  }
 },
 "nbformat": 4,
 "nbformat_minor": 5
}
